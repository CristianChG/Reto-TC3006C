{
  "cells": [
    {
      "cell_type": "markdown",
      "metadata": {
        "id": "view-in-github",
        "colab_type": "text"
      },
      "source": [
        "<a href=\"https://colab.research.google.com/github/CristianChG/Reto-TC3006C/blob/main/TC3006B_CIFAR10_Data_Preparation.ipynb\" target=\"_parent\"><img src=\"https://colab.research.google.com/assets/colab-badge.svg\" alt=\"Open In Colab\"/></a>"
      ]
    },
    {
      "cell_type": "markdown",
      "id": "73a81c2f",
      "metadata": {
        "id": "73a81c2f"
      },
      "source": [
        "---\n",
        "# TC 3006B Inteligencia artificial avanzada para la ciencia de datos I\n",
        "# CIFAR-10 Data Preparation (PyTorch)\n",
        "---\n",
        "## Feedback\n",
        "\n",
        "## Deep Learning -- Data Cleaning\n",
        "\n",
        "--\n",
        "### Objective: Load CIFAR-10, explore data, compute per-channel statistics (mean & std), normalize images, and verify normalization.\n",
        "---\n",
        "\n",
        "### Instructions\n",
        "- Focus on data preparation, analysis, data is not usually as nice as CIFAR10 is. Model training follows as explained in classes.\n",
        "- Write comments and reflections in the indicated, verify you answer questions in Markdown cells.\n",
        "- Keep your code clean, reproducible, and well‑commented.\n",
        "---\n",
        "## Team members:\n",
        ">- Angel Mauricio Ramirez Herrera - A01710158\n",
        ">- Diego Antonio García Padilla - A01710777\n",
        ">- José Eduardo Viveros Escamilla - A01710605\n",
        ">- Kevin Alejandro Ramírez Luna - A01711063\n",
        ">- Guadalupe Paulina López Cuevas - A01701095\n",
        ">- Cristian Chávez Guía - A01710680"
      ]
    },
    {
      "cell_type": "markdown",
      "id": "2f37f400",
      "metadata": {
        "id": "2f37f400"
      },
      "source": [
        "\n",
        "## Environment & Reproducibility\n"
      ]
    },
    {
      "cell_type": "code",
      "execution_count": null,
      "id": "ec560c6e",
      "metadata": {
        "colab": {
          "base_uri": "https://localhost:8080/"
        },
        "id": "ec560c6e",
        "outputId": "26675057-122a-4e01-aaed-ed9b00de6023"
      },
      "outputs": [
        {
          "output_type": "stream",
          "name": "stdout",
          "text": [
            "cpu\n"
          ]
        }
      ],
      "source": [
        "# Install libraries as needed, if using Colab, maybe all good\n",
        "\n",
        "import os, json, random, math, time\n",
        "from pathlib import Path\n",
        "import numpy as np\n",
        "import torch\n",
        "from torch.utils.data import DataLoader\n",
        "import torchvision\n",
        "from torchvision import datasets, transforms\n",
        "import matplotlib.pyplot as plt\n",
        "\n",
        "##########################################\n",
        "SEED = 42 #for reproducibility\n",
        "random.seed(SEED)\n",
        "np.random.seed(SEED)\n",
        "torch.manual_seed(SEED)\n",
        "torch.cuda.manual_seed_all(SEED)\n",
        "###########################################\n",
        "\n",
        "device = torch.device(\"cuda\" if torch.cuda.is_available() else \"cpu\")\n",
        "print(device)\n"
      ]
    },
    {
      "cell_type": "markdown",
      "source": [
        "---\n",
        "Primero, se importan distintas librerías con funciones específicas:\n",
        "\n",
        "> * os: permite interactuar con el sistema operativo (crear carpetas, navegar entre directorios, manejar rutas y variables de entorno).\n",
        ">\n",
        "> * json: se utiliza para leer y escribir datos en formato JSON, muy común para almacenar configuraciones o datasets ligeros.\n",
        ">\n",
        "> * random: genera números aleatorios o selecciona elementos de manera aleatoria, útil para experimentos o dividir datos.\n",
        ">\n",
        "> * math: ofrece funciones matemáticas básicas como potencias, raíces, logaritmos y trigonometría.\n",
        ">\n",
        "> * time: permite medir tiempos de ejecución o pausar procesos.\n",
        ">\n",
        "> * numpy: una librería fundamental para cálculos numéricos, optimizada para trabajar con arreglos y matrices, operaciones estadísticas, álgebra lineal, transformadas, etc.\n",
        "\n",
        "Además, se importan librerías especializadas en deep learning:\n",
        "\n",
        "> * torch (PyTorch): un framework de aprendizaje profundo muy usado en investigación y desarrollo de modelos.\n",
        ">\n",
        "> * torch.utils.data.DataLoader: facilita el manejo de datasets, permitiendo cargarlos en lotes (batches), barajarlos (shuffle) y optimizar su lectura durante el entrenamiento.\n",
        ">\n",
        "> * torchvision y torchvision.datasets, torchvision.transforms: extensiones de PyTorch diseñadas para visión por computadora. Incluyen datasets de imágenes comunes, herramientas para preprocesamiento (como normalización, escalado o aumento de datos) y modelos preentrenados.\n",
        ">\n",
        "> * matplotlib.pyplot: se utiliza para visualizar datos, por ejemplo, mostrar imágenes, gráficas de pérdidas o métricas durante el entrenamiento.\n",
        "\n",
        "SEED es una variable de una semilla aleatoria, esto sirve para que los resultados del Código sean reporoducibles ya que en machine learning y deep learning, muchos procesos usan números aleatorios. Si no se fija una semilla, cada vez que se ejecute el programa se obtendrán resultados diferentes y con la semilla se garantiza que los experimentos se puedan repetir y comparar.\n",
        "\n",
        "El número 42 no significa algo como tal, simplemente es famoso en ciencia de datos como \"la respuesta al universo\".\n",
        "\n",
        "Finalmente, existe una línea de código que define qué dispositivo ejecutará el modelo. Si la computadora personal tiene una GPU compatible con CUDA, PyTorch la usará para la aceleración por hardware para entrenar mucho más rápido y si no hay GPU disponible, el entrenamiento se hará en el procesador."
      ],
      "metadata": {
        "id": "urfZ--_JRaXk"
      },
      "id": "urfZ--_JRaXk"
    },
    {
      "cell_type": "markdown",
      "id": "35aef7ec",
      "metadata": {
        "id": "35aef7ec"
      },
      "source": [
        "\n",
        "## Download & Load CIFAR-10 (Train/Test Splits)\n"
      ]
    },
    {
      "cell_type": "markdown",
      "id": "962f4328-5eda-43f8-bc2e-8b64c764c5e0",
      "metadata": {
        "id": "962f4328-5eda-43f8-bc2e-8b64c764c5e0"
      },
      "source": [
        "#### If using Colab you may need the following"
      ]
    },
    {
      "cell_type": "code",
      "execution_count": null,
      "id": "990752e5-2223-40cf-8b27-2bd8daa504d6",
      "metadata": {
        "colab": {
          "base_uri": "https://localhost:8080/"
        },
        "id": "990752e5-2223-40cf-8b27-2bd8daa504d6",
        "outputId": "d55f754e-adca-4bfc-bbe7-124684ceaf98"
      },
      "outputs": [
        {
          "output_type": "stream",
          "name": "stdout",
          "text": [
            "Mounted at /content/drive\n"
          ]
        }
      ],
      "source": [
        "from google.colab import drive\n",
        "drive.mount('/content/drive')"
      ]
    },
    {
      "cell_type": "code",
      "execution_count": null,
      "id": "75467c44-6614-4d76-b897-5279377755f4",
      "metadata": {
        "id": "75467c44-6614-4d76-b897-5279377755f4"
      },
      "outputs": [],
      "source": [
        "import os\n",
        "os.chdir('/content/drive/MyDrive/ESCUELA/IRS/7MO/IA-1/RETO')"
      ]
    },
    {
      "cell_type": "code",
      "execution_count": null,
      "id": "57f40a48",
      "metadata": {
        "colab": {
          "base_uri": "https://localhost:8080/"
        },
        "id": "57f40a48",
        "outputId": "116db2a0-5894-456b-ea91-0042afad7cbc"
      },
      "outputs": [
        {
          "output_type": "stream",
          "name": "stderr",
          "text": [
            "100%|██████████| 170M/170M [00:11<00:00, 14.8MB/s]\n"
          ]
        },
        {
          "output_type": "execute_result",
          "data": {
            "text/plain": [
              "(50000, 10000, (50000, 32, 32, 3))"
            ]
          },
          "metadata": {},
          "execution_count": 4
        }
      ],
      "source": [
        "# Maybe obvious, adjust path according to your needs\n",
        "DATA_DIR = Path(\"/content/drive/MyDrive/ESCUELA/IRS/7MO/IA-1/RETO\")\n",
        "DATA_DIR.mkdir(parents=True, exist_ok=True)\n",
        "\n",
        "# Base transform for statistics: convert to tensor only (no normalization/augmentations yet)\n",
        "base_transform = transforms.ToTensor()\n",
        "\n",
        "train_set = datasets.CIFAR10(root=DATA_DIR, train=True, download=True, transform=base_transform)\n",
        "test_set  = datasets.CIFAR10(root=DATA_DIR, train=False, download=True, transform=base_transform)\n",
        "\n",
        "len(train_set), len(test_set), train_set.data.shape\n"
      ]
    },
    {
      "cell_type": "markdown",
      "source": [
        "---\n",
        "Path crea una ruta hacia la carpeta donde se van a guardar los datos. En este caso es una carpeta de Google Drive. mkdir crea la carpeta si no existe y da error si está creada. Con esto se garantiza que los datasets se guarden en un lugar definido y no se descarguen cada vez desde cero.\n",
        "\n",
        "transforms.ToTensor() convierte cada imagen del dataset en un tensor de PyTorch (un arreglo numérico optimizado). Antes las imágenes están en formato PIL (Python Imaging Library) con valores de 0 a 255 por píxel. Después de aplicar .ToTensor(), se convierten en valores flotantes entre 0 y 1, listos para que la red neuronal los procese.\n",
        "\n",
        "Se está usando el dataset CIFAR-10, uno de los más populares en visión por computadora.\n",
        "\n",
        "Contiene 60,000 imágenes en color (32x32 píxeles) distribuidas en 10 clases (avión, coche, pájaro, gato, perro, rana, etc.).\n",
        "\n",
        "Parámetros:\n",
        "\n",
        "> * root=DATA_DIR → dónde guardar el dataset.\n",
        ">\n",
        "> * train=True → indica que se descarguen los 50,000 ejemplos de entrenamiento.\n",
        ">\n",
        "> * train=False → obtiene los 10,000 ejemplos de prueba.\n",
        ">\n",
        "> * download=True → si no está descargado, lo baja automáticamente.\n",
        ">\n",
        "> * transform=base_transform → aplica la conversión a tensor al cargar las imágenes."
      ],
      "metadata": {
        "id": "24ojYUCiR5Ww"
      },
      "id": "24ojYUCiR5Ww"
    },
    {
      "cell_type": "markdown",
      "source": [],
      "metadata": {
        "id": "WSEfNTYpnW5n"
      },
      "id": "WSEfNTYpnW5n"
    },
    {
      "cell_type": "markdown",
      "id": "3acc4311",
      "metadata": {
        "id": "3acc4311"
      },
      "source": [
        "\n",
        "### Explore de dataset\n"
      ]
    },
    {
      "cell_type": "code",
      "execution_count": null,
      "id": "4850847d",
      "metadata": {
        "colab": {
          "base_uri": "https://localhost:8080/"
        },
        "id": "4850847d",
        "outputId": "ae8c0cef-2ccb-4041-d2e3-aed8ea7a6e29"
      },
      "outputs": [
        {
          "output_type": "execute_result",
          "data": {
            "text/plain": [
              "['airplane',\n",
              " 'automobile',\n",
              " 'bird',\n",
              " 'cat',\n",
              " 'deer',\n",
              " 'dog',\n",
              " 'frog',\n",
              " 'horse',\n",
              " 'ship',\n",
              " 'truck']"
            ]
          },
          "metadata": {},
          "execution_count": 5
        }
      ],
      "source": [
        "classes = train_set.classes\n",
        "classes"
      ]
    },
    {
      "cell_type": "markdown",
      "source": [
        "Una de las primeras cosas que debemos hacer para poder empezar a trabajar con nuestro dataset es visualizar que es lo que tenemos dentro del dataset, en este caso lo que hacemos es imprimir cuales son las clases con las que vamos a trabajar.\n"
      ],
      "metadata": {
        "id": "bFC-THWuSyGm"
      },
      "id": "bFC-THWuSyGm"
    },
    {
      "cell_type": "code",
      "execution_count": null,
      "id": "ea442996",
      "metadata": {
        "colab": {
          "base_uri": "https://localhost:8080/",
          "height": 267
        },
        "id": "ea442996",
        "outputId": "1b182ab7-7ecf-417e-dceb-3ee33dc1b181"
      },
      "outputs": [
        {
          "output_type": "display_data",
          "data": {
            "text/plain": [
              "<Figure size 750x250 with 3 Axes>"
            ],
            "image/png": "[encoded data removed]"
          },
          "metadata": {}
        }
      ],
      "source": [
        "def show_images(dataset, n=5):\n",
        "    fig, axes = plt.subplots(1, n, figsize=(n*2.5, 2.5))\n",
        "    for ax in axes:\n",
        "        idx = np.random.randint(0, len(dataset))\n",
        "        img, label = dataset[idx]\n",
        "        # img: tensor [C,H,W] in [0,1]\n",
        "        ax.imshow(np.transpose(img.numpy(), (1, 2, 0)))  # HWC\n",
        "        ax.set_title(classes[label])\n",
        "        ax.axis(\"off\")\n",
        "    plt.tight_layout()\n",
        "    plt.show()\n",
        "\n",
        "show_images(train_set, n=3)\n"
      ]
    },
    {
      "cell_type": "markdown",
      "source": [
        "---\n",
        "Para esto lo que hacemos es crear una funcion donde vamos hacer un bucle donde dentro creamos una figura que va a contener 3 de las imagenes de nuestro dataset de manera aleatoria, donde tambien ponemos el titulo de a que clase pertenece, estas imagenes se enseñan de manera aleatoria para que cada que se corra el codigo este arroje diferentes imagenes cada vez."
      ],
      "metadata": {
        "id": "-3UtdHwYR1bz"
      },
      "id": "-3UtdHwYR1bz"
    },
    {
      "cell_type": "markdown",
      "id": "4494ccc6",
      "metadata": {
        "id": "4494ccc6"
      },
      "source": [
        "\n",
        "> **Reflection (Markdown):** Describe CIFAR‑10 (resolution, channels, number of classes/samples). Include one sentence on why normalization is helpful for training.\n"
      ]
    },
    {
      "cell_type": "markdown",
      "id": "cf1e4294",
      "metadata": {
        "id": "cf1e4294"
      },
      "source": [
        "\n",
        "## Compute Per‑Channel Mean & Standard Deviation\n",
        "\n"
      ]
    },
    {
      "cell_type": "code",
      "execution_count": null,
      "id": "09960dd6",
      "metadata": {
        "id": "09960dd6",
        "colab": {
          "base_uri": "https://localhost:8080/"
        },
        "outputId": "01b1ed68-3d5b-4a7a-fa72-7ce351914437"
      },
      "outputs": [
        {
          "output_type": "stream",
          "name": "stdout",
          "text": [
            "Mean: [0.32768 0.32768 0.32768]\n",
            "Std: [0.27755317 0.26929596 0.26811677]\n"
          ]
        }
      ],
      "source": [
        "BATCH_SIZE = 512\n",
        "train_loader = DataLoader(train_set, batch_size=BATCH_SIZE, shuffle=False, num_workers=2, pin_memory=True)\n",
        "\n",
        "'''\n",
        "Compute mean and std, before normalization\n",
        "\n",
        "'''\n",
        "import numpy as np\n",
        "import pandas as pd\n",
        "\n",
        "# train_set es una lista (tensor_imagen, etiqueta) convertir a arrays de numpy\n",
        "images_np = [np.transpose(img.numpy(), (1, 2, 0)) for img, _ in train_set]\n",
        "# Convertir lista de arrays a un solo array\n",
        "images_np = np.array(images_np)\n",
        "# Reshape para tener todos los píxeles en la última dimensión (num_imágenes, altura * ancho, canales)\n",
        "reshaped_images = images_np.reshape(images_np.shape[0], -1, images_np.shape[-1])\n",
        "# Calcular media y desviación estándar en la dimensión de píxeles(axis=1)\n",
        "# Sacar promedio de las imágenes (axis=0)\n",
        "mean = np.mean(reshaped_images, axis=(0, 1))\n",
        "std = np.std(reshaped_images, axis=(0, 1))\n",
        "\n",
        "print(\"Mean:\", mean)\n",
        "print(\"Std:\", std)"
      ]
    },
    {
      "cell_type": "markdown",
      "id": "aea6a3d1",
      "metadata": {
        "id": "aea6a3d1"
      },
      "source": [
        "\n",
        "> Record your computed values here (e.g., `Mean ≈ [0.4914, 0.4822, 0.4465]`, `Std ≈ [0.2470, 0.2435, 0.2616]`). Your numbers should closely match these canonical references.\n"
      ]
    },
    {
      "cell_type": "markdown",
      "id": "b638be5c",
      "metadata": {
        "id": "b638be5c"
      },
      "source": [
        "\n",
        "## Normalize Datasets Using Computed Stats\n"
      ]
    },
    {
      "cell_type": "code",
      "execution_count": null,
      "id": "0408fc3d",
      "metadata": {
        "id": "0408fc3d",
        "colab": {
          "base_uri": "https://localhost:8080/"
        },
        "outputId": "3588a758-cfd8-445f-f792-f3697d729033"
      },
      "outputs": [
        {
          "output_type": "execute_result",
          "data": {
            "text/plain": [
              "(50000, 10000)"
            ]
          },
          "metadata": {},
          "execution_count": 22
        }
      ],
      "source": [
        "normalize = transforms.Normalize(mean=mean.tolist(), std=std.tolist())\n",
        "\n",
        "train_transform = transforms.Compose([\n",
        "    transforms.ToTensor(),\n",
        "    normalize,\n",
        "])\n",
        "\n",
        "test_transform = transforms.Compose([\n",
        "    transforms.ToTensor(),\n",
        "    normalize,\n",
        "])\n",
        "\n",
        "train_set_norm = datasets.CIFAR10(root=DATA_DIR, train=True, download=False, transform=train_transform)\n",
        "test_set_norm  = datasets.CIFAR10(root=DATA_DIR, train=False, download=False, transform=test_transform)\n",
        "\n",
        "len(train_set_norm), len(test_set_norm)\n"
      ]
    },
    {
      "cell_type": "markdown",
      "source": [
        "---\n",
        "Esta función normaliza el dataset CIFAR-10 usando transformaciones de PyTorch. Define pipelines que convierten imágenes a tensores y las normalizan con valores de media y desviación estándar pre-calculados, creando conjuntos de entrenamiento y prueba estandarizados para mejorar el entrenamiento del modelo.\n",
        "\n",
        "Lo que acelera la convergencia del modelo y mejora la estabilidad durante el entrenamiento de redes neuronales."
      ],
      "metadata": {
        "id": "tlXKBpl7TSJx"
      },
      "id": "tlXKBpl7TSJx"
    },
    {
      "cell_type": "markdown",
      "id": "05fa5466",
      "metadata": {
        "id": "05fa5466"
      },
      "source": [
        "\n",
        "## Verify Normalization (Means ≈ 0, Stds ≈ 1)\n",
        "\n",
        "Confirm the transformation worked as intended.\n"
      ]
    },
    {
      "cell_type": "code",
      "execution_count": null,
      "id": "0fa7d0c4",
      "metadata": {
        "id": "0fa7d0c4",
        "colab": {
          "base_uri": "https://localhost:8080/"
        },
        "outputId": "691a64d6-1aff-438b-88f6-d214831897cb"
      },
      "outputs": [
        {
          "output_type": "stream",
          "name": "stdout",
          "text": [
            "Media: [0.5971052  0.57570213 0.45117134]\n",
            "Std: [0.8350855  0.84559965 0.9019694 ]\n"
          ]
        }
      ],
      "source": [
        "train_loader_norm = DataLoader(train_set_norm, batch_size=BATCH_SIZE, shuffle=False, num_workers=2, pin_memory=True)\n",
        "\n",
        "'''\n",
        "Verify that data are normalized\n",
        "'''\n",
        "import numpy as np\n",
        "import pandas as pd\n",
        "\n",
        "# Convertir a arrays\n",
        "normalized_images_np = [np.transpose(img.numpy(), (1, 2, 0)) for img, _ in train_set_norm]\n",
        "# Convertir lista de arrays a un solo array\n",
        "normalized_images_np = np.array(normalized_images_np)\n",
        "# Reshape para tener todos los píxeles en la última dimensión (número_imágenes, altura * ancho, canales)\n",
        "reshaped_images_norm = normalized_images_np.reshape(normalized_images_np.shape[0], -1, normalized_images_np.shape[-1])\n",
        "# Calcular media y desviación estándar\n",
        "mean_norm = np.mean(reshaped_images_norm, axis=(0, 1))\n",
        "std_norm = np.std(reshaped_images_norm, axis=(0, 1))\n",
        "\n",
        "print(\"Media:\", mean_norm)\n",
        "print(\"Std:\", std_norm)"
      ]
    },
    {
      "cell_type": "markdown",
      "source": [
        "---\n",
        "Confirmamos que realizamos correctamente la normalización verificando que los valores de la media esten cercanos a 0 o la std a 1.\n",
        "Con esto nuestra CNN aprende mucho mejor con datos ya centrados y escalados."
      ],
      "metadata": {
        "id": "V55PRmjkSW22"
      },
      "id": "V55PRmjkSW22"
    },
    {
      "cell_type": "markdown",
      "id": "dcdfc6c9",
      "metadata": {
        "id": "dcdfc6c9"
      },
      "source": [
        "\n",
        "> Report the post‑normalization means and stds. They should be close to `[0,0,0]` and `[1,1,1]` (small deviations are normal due to rounding/batching).\n"
      ]
    },
    {
      "cell_type": "markdown",
      "source": [],
      "metadata": {
        "id": "kzsjHSv1N6-w"
      },
      "id": "kzsjHSv1N6-w"
    },
    {
      "cell_type": "markdown",
      "id": "aeaa1b48",
      "metadata": {
        "id": "aeaa1b48"
      },
      "source": [
        "\n",
        "## Light Data Augmentation\n",
        "Add a few basic augmentations (random crop with padding, random horizontal flip). Use **train** only.\n"
      ]
    },
    {
      "cell_type": "code",
      "execution_count": null,
      "id": "6fcfe8a2",
      "metadata": {
        "id": "6fcfe8a2",
        "colab": {
          "base_uri": "https://localhost:8080/"
        },
        "outputId": "cdb69f2c-384c-486f-e852-246a274cd50c"
      },
      "outputs": [
        {
          "output_type": "execute_result",
          "data": {
            "text/plain": [
              "50000"
            ]
          },
          "metadata": {},
          "execution_count": 24
        }
      ],
      "source": [
        "\n",
        "aug_transform = transforms.Compose([\n",
        "    transforms.RandomHorizontalFlip(p=0.5),\n",
        "    #anything else you may want to add is welcomed\n",
        "    normalize,\n",
        "])\n",
        "\n",
        "train_set_aug = datasets.CIFAR10(root=DATA_DIR, train=True, download=False, transform=aug_transform)\n",
        "len(train_set_aug)\n"
      ]
    },
    {
      "cell_type": "markdown",
      "source": [
        "---\n",
        "Aplicamos una serie de transformaciones a las imagenes para cambiar un poco las imagenes a la hora del entrenamiento.\n",
        "Para esto usamos la función `trasnforms.compose`, para concatenar una seríe de transformaciones una tras otra; en este caso, aplicamos una rotación horizontal y una normalización de la imagen (transforma el valor de los pixeles de la imagen).\n"
      ],
      "metadata": {
        "id": "lKGlhSwqQwlt"
      },
      "id": "lKGlhSwqQwlt"
    },
    {
      "cell_type": "markdown",
      "id": "075f932c",
      "metadata": {
        "id": "075f932c"
      },
      "source": [
        "\n",
        "> Explain when/why augmentation helps. What risks do heavy augmentations pose for small images like CIFAR‑10 (32×32)?\n"
      ]
    },
    {
      "cell_type": "markdown",
      "id": "a667e6ee",
      "metadata": {
        "id": "a667e6ee"
      },
      "source": [
        "\n",
        "## Class Distribution\n",
        "Confirm class balance. CIFAR‑10 should be balanced across the 10 classes. Create a plot as a visual aid\n"
      ]
    },
    {
      "cell_type": "code",
      "execution_count": null,
      "id": "51a66123",
      "metadata": {
        "id": "51a66123",
        "colab": {
          "base_uri": "https://localhost:8080/",
          "height": 544
        },
        "outputId": "4c8842bf-4920-4acb-b8b9-c297c669e4de"
      },
      "outputs": [
        {
          "output_type": "stream",
          "name": "stdout",
          "text": [
            "Class distribution: {'airplane': np.int64(5000), 'automobile': np.int64(5000), 'bird': np.int64(5000), 'cat': np.int64(5000), 'deer': np.int64(5000), 'dog': np.int64(5000), 'frog': np.int64(5000), 'horse': np.int64(5000), 'ship': np.int64(5000), 'truck': np.int64(5000)}\n"
          ]
        },
        {
          "output_type": "display_data",
          "data": {
            "text/plain": [
              "<Figure size 1000x500 with 1 Axes>"
            ],
            "image/png": "[encoded data removed]"
          },
          "metadata": {}
        }
      ],
      "source": [
        "'''\n",
        "Cifar10 is perfectly distributed among classes, this will not always be the case, plots help, numbers help\n",
        "'''\n",
        "\n",
        "# show class distribution\n",
        "class_counts = np.bincount(train_set.targets)\n",
        "print(\"Class distribution:\", dict(zip(classes, class_counts)))\n",
        "\n",
        "# show plot\n",
        "plt.figure(figsize=(10, 5))\n",
        "plt.bar(classes, class_counts)\n",
        "plt.title('CIFAR-10 distribution')\n",
        "plt.xlabel('Class')\n",
        "plt.ylabel('Number of Samples')\n",
        "plt.xticks(rotation=45, ha='right')\n",
        "plt.tight_layout()\n",
        "plt.show()"
      ]
    },
    {
      "cell_type": "markdown",
      "source": [
        "---\n",
        "Finalmente, graficamos cuántas imágenes hay por clase en el dataset `CIFAR-10`. Primero cuenta cuántas muestras hay de cada categoría (como “gato”, “avión”, etc.), luego imprime esos números y finalmente genera una gráfica de barras para mostrar la distribución de forma clara."
      ],
      "metadata": {
        "id": "C3wPiFT6QcYY"
      },
      "id": "C3wPiFT6QcYY"
    },
    {
      "cell_type": "markdown",
      "id": "4dcc34e8",
      "metadata": {
        "id": "4dcc34e8"
      },
      "source": [
        "\n",
        "## 9. Submission Checklist\n",
        "- [ ] Printed dataset sizes and showed random sample images.\n",
        "- [ ] Reported per‑channel mean & std from the training set.\n",
        "- [ ] Applied normalization using computed stats.\n",
        "- [ ] Verified post‑normalization mean/std are ~0/1.\n",
        "- [ ] Basic augmentations and rationale.\n"
      ]
    },
    {
      "cell_type": "code",
      "execution_count": null,
      "id": "6ad6e822-aaaf-4a07-ad0d-a15a5b5aaadd",
      "metadata": {
        "id": "6ad6e822-aaaf-4a07-ad0d-a15a5b5aaadd"
      },
      "outputs": [],
      "source": []
    }
  ],
  "metadata": {
    "kernelspec": {
      "display_name": "Python 3 (ipykernel)",
      "language": "python",
      "name": "python3"
    },
    "language_info": {
      "codemirror_mode": {
        "name": "ipython",
        "version": 3
      },
      "file_extension": ".py",
      "mimetype": "text/x-python",
      "name": "python",
      "nbconvert_exporter": "python",
      "pygments_lexer": "ipython3",
      "version": "3.12.7"
    },
    "colab": {
      "provenance": [],
      "include_colab_link": true
    }
  },
  "nbformat": 4,
  "nbformat_minor": 5
}